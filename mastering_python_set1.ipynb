{
  "metadata": {
    "kernelspec": {
      "language": "python",
      "display_name": "Python 3",
      "name": "python3"
    },
    "language_info": {
      "name": "python",
      "version": "3.10.12",
      "mimetype": "text/x-python",
      "codemirror_mode": {
        "name": "ipython",
        "version": 3
      },
      "pygments_lexer": "ipython3",
      "nbconvert_exporter": "python",
      "file_extension": ".py"
    },
    "colab": {
      "provenance": [],
      "include_colab_link": true
    }
  },
  "nbformat_minor": 0,
  "nbformat": 4,
  "cells": [
    {
      "cell_type": "markdown",
      "metadata": {
        "id": "view-in-github",
        "colab_type": "text"
      },
      "source": [
        "<a href=\"https://colab.research.google.com/github/AmarjeetKumar01/Learn_Python/blob/main/mastering_python_set1.ipynb\" target=\"_parent\"><img src=\"https://colab.research.google.com/assets/colab-badge.svg\" alt=\"Open In Colab\"/></a>"
      ]
    },
    {
      "cell_type": "markdown",
      "source": [
        "**1. Swap values**\n",
        "\n",
        "swap the values of two variables without using a temporary variable:"
      ],
      "metadata": {
        "id": "yPgg9VF2sgLu"
      }
    },
    {
      "cell_type": "code",
      "source": [
        "# a,b = b,a\n",
        "a = 10\n",
        "b = 20\n",
        "\n",
        "a, b = b, a\n",
        "\n",
        "print(a)\n",
        "print(b)\n"
      ],
      "metadata": {
        "execution": {
          "iopub.status.busy": "2023-08-13T06:49:34.007828Z",
          "iopub.execute_input": "2023-08-13T06:49:34.008289Z",
          "iopub.status.idle": "2023-08-13T06:49:34.014173Z",
          "shell.execute_reply.started": "2023-08-13T06:49:34.008253Z",
          "shell.execute_reply": "2023-08-13T06:49:34.013034Z"
        },
        "trusted": true,
        "colab": {
          "base_uri": "https://localhost:8080/"
        },
        "id": "q2zDFaq9sgLw",
        "outputId": "5a65149e-e44c-4e11-af98-bda478d7bbcf"
      },
      "execution_count": 1,
      "outputs": [
        {
          "output_type": "stream",
          "name": "stdout",
          "text": [
            "20\n",
            "10\n"
          ]
        }
      ]
    },
    {
      "cell_type": "markdown",
      "source": [
        "2. List Comprehensions\n",
        "Use list comprehensions for concise and redable code:"
      ],
      "metadata": {
        "id": "mY6MuK3VsgLy"
      }
    },
    {
      "cell_type": "code",
      "source": [
        "Squared_number = [x**2 for x in range(1, 11)]"
      ],
      "metadata": {
        "execution": {
          "iopub.status.busy": "2023-08-13T05:26:51.063744Z",
          "iopub.execute_input": "2023-08-13T05:26:51.064191Z",
          "iopub.status.idle": "2023-08-13T05:26:51.069757Z",
          "shell.execute_reply.started": "2023-08-13T05:26:51.064154Z",
          "shell.execute_reply": "2023-08-13T05:26:51.068531Z"
        },
        "trusted": true,
        "id": "yv4rxLiksgLy"
      },
      "execution_count": 2,
      "outputs": []
    },
    {
      "cell_type": "markdown",
      "source": [
        "**3. Multiple Assignmets**\n",
        "\n",
        "Assign Multiple variables in a single line:"
      ],
      "metadata": {
        "id": "0QWqh0eusgLz"
      }
    },
    {
      "cell_type": "code",
      "source": [
        "x,y,z = 1,2,3"
      ],
      "metadata": {
        "execution": {
          "iopub.status.busy": "2023-08-13T05:27:44.307887Z",
          "iopub.execute_input": "2023-08-13T05:27:44.308729Z",
          "iopub.status.idle": "2023-08-13T05:27:44.313531Z",
          "shell.execute_reply.started": "2023-08-13T05:27:44.308684Z",
          "shell.execute_reply": "2023-08-13T05:27:44.312646Z"
        },
        "trusted": true,
        "id": "-qEyfcwQsgLz"
      },
      "execution_count": 3,
      "outputs": []
    },
    {
      "cell_type": "markdown",
      "source": [],
      "metadata": {
        "id": "ZsYz1dLdsgLz"
      }
    },
    {
      "cell_type": "markdown",
      "source": [
        "**4. Unpacking**\n",
        "\n",
        "Unpack elements of a list or tuple into separate variables:"
      ],
      "metadata": {
        "id": "iL8_92RDsgLz"
      }
    },
    {
      "cell_type": "code",
      "source": [
        "numbers = [1,2,3]\n",
        "a,b,c = numbers"
      ],
      "metadata": {
        "execution": {
          "iopub.status.busy": "2023-08-13T05:28:41.334896Z",
          "iopub.execute_input": "2023-08-13T05:28:41.335329Z",
          "iopub.status.idle": "2023-08-13T05:28:41.340931Z",
          "shell.execute_reply.started": "2023-08-13T05:28:41.335292Z",
          "shell.execute_reply": "2023-08-13T05:28:41.339496Z"
        },
        "trusted": true,
        "id": "5mpXQXY9sgL0"
      },
      "execution_count": 4,
      "outputs": []
    },
    {
      "cell_type": "code",
      "source": [
        "a"
      ],
      "metadata": {
        "execution": {
          "iopub.status.busy": "2023-08-13T05:28:47.020392Z",
          "iopub.execute_input": "2023-08-13T05:28:47.020791Z",
          "iopub.status.idle": "2023-08-13T05:28:47.030294Z",
          "shell.execute_reply.started": "2023-08-13T05:28:47.020755Z",
          "shell.execute_reply": "2023-08-13T05:28:47.029018Z"
        },
        "trusted": true,
        "colab": {
          "base_uri": "https://localhost:8080/"
        },
        "id": "ddtLJlrisgL0",
        "outputId": "23a5be71-91c7-4918-bd7b-54183df28a61"
      },
      "execution_count": 5,
      "outputs": [
        {
          "output_type": "execute_result",
          "data": {
            "text/plain": [
              "1"
            ]
          },
          "metadata": {},
          "execution_count": 5
        }
      ]
    },
    {
      "cell_type": "code",
      "source": [
        "b"
      ],
      "metadata": {
        "execution": {
          "iopub.status.busy": "2023-08-13T05:28:52.008450Z",
          "iopub.execute_input": "2023-08-13T05:28:52.009119Z",
          "iopub.status.idle": "2023-08-13T05:28:52.016284Z",
          "shell.execute_reply.started": "2023-08-13T05:28:52.009078Z",
          "shell.execute_reply": "2023-08-13T05:28:52.014953Z"
        },
        "trusted": true,
        "colab": {
          "base_uri": "https://localhost:8080/"
        },
        "id": "d_PJBqq9sgL0",
        "outputId": "8b96f820-6583-480b-c8fa-113028e63490"
      },
      "execution_count": 6,
      "outputs": [
        {
          "output_type": "execute_result",
          "data": {
            "text/plain": [
              "2"
            ]
          },
          "metadata": {},
          "execution_count": 6
        }
      ]
    },
    {
      "cell_type": "code",
      "source": [
        "c"
      ],
      "metadata": {
        "execution": {
          "iopub.status.busy": "2023-08-13T05:28:54.145871Z",
          "iopub.execute_input": "2023-08-13T05:28:54.146266Z",
          "iopub.status.idle": "2023-08-13T05:28:54.153451Z",
          "shell.execute_reply.started": "2023-08-13T05:28:54.146234Z",
          "shell.execute_reply": "2023-08-13T05:28:54.152233Z"
        },
        "trusted": true,
        "colab": {
          "base_uri": "https://localhost:8080/"
        },
        "id": "hexBHB6AsgL1",
        "outputId": "e6d41ae0-2979-4a92-aee7-cdaeb6095463"
      },
      "execution_count": 7,
      "outputs": [
        {
          "output_type": "execute_result",
          "data": {
            "text/plain": [
              "3"
            ]
          },
          "metadata": {},
          "execution_count": 7
        }
      ]
    },
    {
      "cell_type": "markdown",
      "source": [
        "**5. Merge Dictionaries**\n",
        "\n",
        "Merge two dictionaries in python"
      ],
      "metadata": {
        "id": "YIP9HY1asgL1"
      }
    },
    {
      "cell_type": "code",
      "source": [
        "dict1 = {'a':1,'b':2}\n",
        "dict2 = {'c':3,'d':4}\n",
        "merge_dict = {**dict1,**dict2}"
      ],
      "metadata": {
        "execution": {
          "iopub.status.busy": "2023-08-13T05:30:33.928308Z",
          "iopub.execute_input": "2023-08-13T05:30:33.928752Z",
          "iopub.status.idle": "2023-08-13T05:30:33.934749Z",
          "shell.execute_reply.started": "2023-08-13T05:30:33.928720Z",
          "shell.execute_reply": "2023-08-13T05:30:33.933497Z"
        },
        "trusted": true,
        "id": "p0VZqMihsgL1"
      },
      "execution_count": 8,
      "outputs": []
    },
    {
      "cell_type": "code",
      "source": [
        "merge_dict"
      ],
      "metadata": {
        "execution": {
          "iopub.status.busy": "2023-08-13T05:30:39.256574Z",
          "iopub.execute_input": "2023-08-13T05:30:39.256962Z",
          "iopub.status.idle": "2023-08-13T05:30:39.264440Z",
          "shell.execute_reply.started": "2023-08-13T05:30:39.256931Z",
          "shell.execute_reply": "2023-08-13T05:30:39.263299Z"
        },
        "trusted": true,
        "colab": {
          "base_uri": "https://localhost:8080/"
        },
        "id": "WGRYRoMTsgL1",
        "outputId": "9160a96e-6abf-4bc6-e207-1404766f8303"
      },
      "execution_count": 9,
      "outputs": [
        {
          "output_type": "execute_result",
          "data": {
            "text/plain": [
              "{'a': 1, 'b': 2, 'c': 3, 'd': 4}"
            ]
          },
          "metadata": {},
          "execution_count": 9
        }
      ]
    },
    {
      "cell_type": "markdown",
      "source": [
        "**6. Ternary Operator**\n",
        "\n",
        "Use a ternary Operator for concise conditional expressions:\n"
      ],
      "metadata": {
        "id": "5GyWF5rmsgL2"
      }
    },
    {
      "cell_type": "code",
      "source": [
        "x = 10\n",
        "result = \"positive\" if x > 0 else \"non-positive\""
      ],
      "metadata": {
        "execution": {
          "iopub.status.busy": "2023-08-13T05:33:15.948844Z",
          "iopub.execute_input": "2023-08-13T05:33:15.949253Z",
          "iopub.status.idle": "2023-08-13T05:33:15.954412Z",
          "shell.execute_reply.started": "2023-08-13T05:33:15.949222Z",
          "shell.execute_reply": "2023-08-13T05:33:15.953173Z"
        },
        "trusted": true,
        "id": "ddCROGRQsgL2"
      },
      "execution_count": 10,
      "outputs": []
    },
    {
      "cell_type": "code",
      "source": [
        "result"
      ],
      "metadata": {
        "execution": {
          "iopub.status.busy": "2023-08-13T05:33:19.256491Z",
          "iopub.execute_input": "2023-08-13T05:33:19.256928Z",
          "iopub.status.idle": "2023-08-13T05:33:19.264407Z",
          "shell.execute_reply.started": "2023-08-13T05:33:19.256888Z",
          "shell.execute_reply": "2023-08-13T05:33:19.263030Z"
        },
        "trusted": true,
        "colab": {
          "base_uri": "https://localhost:8080/",
          "height": 35
        },
        "id": "gk8TUCHKsgL2",
        "outputId": "887c6aa4-1345-42bf-b06f-fcc6ce48da3b"
      },
      "execution_count": 11,
      "outputs": [
        {
          "output_type": "execute_result",
          "data": {
            "text/plain": [
              "'positive'"
            ],
            "application/vnd.google.colaboratory.intrinsic+json": {
              "type": "string"
            }
          },
          "metadata": {},
          "execution_count": 11
        }
      ]
    },
    {
      "cell_type": "code",
      "source": [
        "x = -29\n",
        "result = \"positive\" if x > 0 else \"non-positive\""
      ],
      "metadata": {
        "execution": {
          "iopub.status.busy": "2023-08-13T05:33:38.425444Z",
          "iopub.execute_input": "2023-08-13T05:33:38.425906Z",
          "iopub.status.idle": "2023-08-13T05:33:38.431746Z",
          "shell.execute_reply.started": "2023-08-13T05:33:38.425868Z",
          "shell.execute_reply": "2023-08-13T05:33:38.430467Z"
        },
        "trusted": true,
        "id": "qwn-_x4asgL2"
      },
      "execution_count": 12,
      "outputs": []
    },
    {
      "cell_type": "code",
      "source": [
        "result"
      ],
      "metadata": {
        "execution": {
          "iopub.status.busy": "2023-08-13T05:33:41.061819Z",
          "iopub.execute_input": "2023-08-13T05:33:41.062264Z",
          "iopub.status.idle": "2023-08-13T05:33:41.069566Z",
          "shell.execute_reply.started": "2023-08-13T05:33:41.062228Z",
          "shell.execute_reply": "2023-08-13T05:33:41.068219Z"
        },
        "trusted": true,
        "colab": {
          "base_uri": "https://localhost:8080/",
          "height": 35
        },
        "id": "Xsm0LxsVsgL2",
        "outputId": "55672268-f8ea-4c39-c340-b8aeb8d6829c"
      },
      "execution_count": 13,
      "outputs": [
        {
          "output_type": "execute_result",
          "data": {
            "text/plain": [
              "'non-positive'"
            ],
            "application/vnd.google.colaboratory.intrinsic+json": {
              "type": "string"
            }
          },
          "metadata": {},
          "execution_count": 13
        }
      ]
    },
    {
      "cell_type": "markdown",
      "source": [
        "**7 Default Dictionary**\n",
        "\n",
        "Create a dictionary with default values for missing keys:\n"
      ],
      "metadata": {
        "id": "1BSPs30JsgL2"
      }
    },
    {
      "cell_type": "code",
      "source": [
        "from collections import defaultdict\n",
        "d = defaultdict(int)# default value for missing is 0\n",
        "\n",
        "for i in range(10):\n",
        "  d[i] += 1\n",
        "\n",
        "print(d)\n"
      ],
      "metadata": {
        "execution": {
          "iopub.status.busy": "2023-08-13T05:37:26.089284Z",
          "iopub.execute_input": "2023-08-13T05:37:26.089672Z",
          "iopub.status.idle": "2023-08-13T05:37:26.096504Z",
          "shell.execute_reply.started": "2023-08-13T05:37:26.089642Z",
          "shell.execute_reply": "2023-08-13T05:37:26.095253Z"
        },
        "trusted": true,
        "colab": {
          "base_uri": "https://localhost:8080/"
        },
        "id": "9b3vjBX3sgL2",
        "outputId": "f6ace76b-3aa8-43a2-ed34-fe9bb27fe63a"
      },
      "execution_count": 14,
      "outputs": [
        {
          "output_type": "stream",
          "name": "stdout",
          "text": [
            "defaultdict(<class 'int'>, {0: 1, 1: 1, 2: 1, 3: 1, 4: 1, 5: 1, 6: 1, 7: 1, 8: 1, 9: 1})\n"
          ]
        }
      ]
    },
    {
      "cell_type": "markdown",
      "source": [
        "**8.ZIP Function**\n",
        "\n",
        "Combine two or more lists using zip function:"
      ],
      "metadata": {
        "id": "eqQaJS2UsgL3"
      }
    },
    {
      "cell_type": "code",
      "source": [
        "names = ['Amar',\"Jeet\",\"Kumar\"]\n",
        "scores = [85,98,89]\n",
        "students = zip(names, scores)\n"
      ],
      "metadata": {
        "execution": {
          "iopub.status.busy": "2023-08-13T05:42:58.722218Z",
          "iopub.execute_input": "2023-08-13T05:42:58.722939Z",
          "iopub.status.idle": "2023-08-13T05:42:58.728973Z",
          "shell.execute_reply.started": "2023-08-13T05:42:58.722895Z",
          "shell.execute_reply": "2023-08-13T05:42:58.727772Z"
        },
        "trusted": true,
        "id": "TETgSKmWsgL3"
      },
      "execution_count": 15,
      "outputs": []
    },
    {
      "cell_type": "code",
      "source": [
        "# # print the tuple\n",
        "# print(next(students))\n"
      ],
      "metadata": {
        "execution": {
          "iopub.status.busy": "2023-08-13T05:42:27.402266Z",
          "iopub.execute_input": "2023-08-13T05:42:27.402795Z",
          "iopub.status.idle": "2023-08-13T05:42:27.407499Z",
          "shell.execute_reply.started": "2023-08-13T05:42:27.402751Z",
          "shell.execute_reply": "2023-08-13T05:42:27.406638Z"
        },
        "trusted": true,
        "id": "S1DetYZysgL3"
      },
      "execution_count": 16,
      "outputs": []
    },
    {
      "cell_type": "code",
      "source": [
        "students_list = list(students)\n",
        "print(students_list)"
      ],
      "metadata": {
        "execution": {
          "iopub.status.busy": "2023-08-13T05:43:04.167901Z",
          "iopub.execute_input": "2023-08-13T05:43:04.168368Z",
          "iopub.status.idle": "2023-08-13T05:43:04.173915Z",
          "shell.execute_reply.started": "2023-08-13T05:43:04.168321Z",
          "shell.execute_reply": "2023-08-13T05:43:04.172745Z"
        },
        "trusted": true,
        "colab": {
          "base_uri": "https://localhost:8080/"
        },
        "id": "rrVuOdiusgL4",
        "outputId": "ef20c275-c5e3-4d6d-d2f9-bc5520ea440e"
      },
      "execution_count": 17,
      "outputs": [
        {
          "output_type": "stream",
          "name": "stdout",
          "text": [
            "[('Amar', 85), ('Jeet', 98), ('Kumar', 89)]\n"
          ]
        }
      ]
    },
    {
      "cell_type": "markdown",
      "source": [
        "**9. Enumerate Function**\n",
        "\n",
        "Use **enumerate** to get both the index and value of elements in a list:\n"
      ],
      "metadata": {
        "id": "RVPIT9D8sgL4"
      }
    },
    {
      "cell_type": "code",
      "source": [
        "fruits = ['apple','banana','cherry']\n",
        "for index, fruit in enumerate(fruits):\n",
        "    print(f\"index {index}: {fruits}\")"
      ],
      "metadata": {
        "execution": {
          "iopub.status.busy": "2023-08-13T05:45:16.037703Z",
          "iopub.execute_input": "2023-08-13T05:45:16.038136Z",
          "iopub.status.idle": "2023-08-13T05:45:16.045005Z",
          "shell.execute_reply.started": "2023-08-13T05:45:16.038102Z",
          "shell.execute_reply": "2023-08-13T05:45:16.043143Z"
        },
        "trusted": true,
        "colab": {
          "base_uri": "https://localhost:8080/"
        },
        "id": "kQ2Kxvz0sgL4",
        "outputId": "15c8698a-643c-4e52-df81-fea295b5ae7e"
      },
      "execution_count": 18,
      "outputs": [
        {
          "output_type": "stream",
          "name": "stdout",
          "text": [
            "index 0: ['apple', 'banana', 'cherry']\n",
            "index 1: ['apple', 'banana', 'cherry']\n",
            "index 2: ['apple', 'banana', 'cherry']\n"
          ]
        }
      ]
    },
    {
      "cell_type": "markdown",
      "source": [
        "**10 any and all**\n",
        "\n",
        "Check if any or all elements in sequence satisfy a condition:\n"
      ],
      "metadata": {
        "id": "XM3H4ALisgL4"
      }
    },
    {
      "cell_type": "code",
      "source": [
        "numbers = [2,4,6,5,6,7,8]\n",
        "any_even = any(x % 2 == 0 for x in numbers)\n",
        "any_even"
      ],
      "metadata": {
        "execution": {
          "iopub.status.busy": "2023-08-13T05:47:11.377701Z",
          "iopub.execute_input": "2023-08-13T05:47:11.378175Z",
          "iopub.status.idle": "2023-08-13T05:47:11.386909Z",
          "shell.execute_reply.started": "2023-08-13T05:47:11.378134Z",
          "shell.execute_reply": "2023-08-13T05:47:11.386033Z"
        },
        "trusted": true,
        "colab": {
          "base_uri": "https://localhost:8080/"
        },
        "id": "7wr6GzLJsgL5",
        "outputId": "8a0afa0b-542b-4582-be0f-efd7213cd89f"
      },
      "execution_count": 19,
      "outputs": [
        {
          "output_type": "execute_result",
          "data": {
            "text/plain": [
              "True"
            ]
          },
          "metadata": {},
          "execution_count": 19
        }
      ]
    },
    {
      "cell_type": "code",
      "source": [
        "all_even = all(x % 2 == 0 for x in numbers)\n",
        "all_even"
      ],
      "metadata": {
        "execution": {
          "iopub.status.busy": "2023-08-13T05:47:46.204069Z",
          "iopub.execute_input": "2023-08-13T05:47:46.204512Z",
          "iopub.status.idle": "2023-08-13T05:47:46.213396Z",
          "shell.execute_reply.started": "2023-08-13T05:47:46.204474Z",
          "shell.execute_reply": "2023-08-13T05:47:46.212104Z"
        },
        "trusted": true,
        "colab": {
          "base_uri": "https://localhost:8080/"
        },
        "id": "QM7AJfXGsgL5",
        "outputId": "90027aa9-7486-4758-d260-f6161ee8656c"
      },
      "execution_count": 20,
      "outputs": [
        {
          "output_type": "execute_result",
          "data": {
            "text/plain": [
              "False"
            ]
          },
          "metadata": {},
          "execution_count": 20
        }
      ]
    },
    {
      "cell_type": "markdown",
      "source": [
        "**11. One Liner function**\n",
        "\n",
        "Create one-linear functions using lambda:"
      ],
      "metadata": {
        "id": "XbyirLe4sgL5"
      }
    },
    {
      "cell_type": "code",
      "source": [
        "square = lambda x: x**2"
      ],
      "metadata": {
        "execution": {
          "iopub.status.busy": "2023-08-13T05:48:53.692471Z",
          "iopub.execute_input": "2023-08-13T05:48:53.692888Z",
          "iopub.status.idle": "2023-08-13T05:48:53.697884Z",
          "shell.execute_reply.started": "2023-08-13T05:48:53.692854Z",
          "shell.execute_reply": "2023-08-13T05:48:53.696940Z"
        },
        "trusted": true,
        "id": "KcnqnqORsgL5"
      },
      "execution_count": 21,
      "outputs": []
    },
    {
      "cell_type": "code",
      "source": [
        "print(square(5))\n"
      ],
      "metadata": {
        "execution": {
          "iopub.status.busy": "2023-08-13T05:49:42.260235Z",
          "iopub.execute_input": "2023-08-13T05:49:42.260676Z",
          "iopub.status.idle": "2023-08-13T05:49:42.267031Z",
          "shell.execute_reply.started": "2023-08-13T05:49:42.260637Z",
          "shell.execute_reply": "2023-08-13T05:49:42.265459Z"
        },
        "trusted": true,
        "colab": {
          "base_uri": "https://localhost:8080/"
        },
        "id": "Xk5GDMiFsgL5",
        "outputId": "de5996c0-cab0-4f6d-e868-cb01aedb6951"
      },
      "execution_count": 22,
      "outputs": [
        {
          "output_type": "stream",
          "name": "stdout",
          "text": [
            "25\n"
          ]
        }
      ]
    },
    {
      "cell_type": "markdown",
      "source": [
        "**12. Filter and map**\n",
        "\n",
        "Use filter and map for compact and expressive list operations"
      ],
      "metadata": {
        "id": "IltlqFFYsgL6"
      }
    },
    {
      "cell_type": "code",
      "source": [
        "#To filter a list\n",
        "numbers = [1, 2, 3, 4, 5]\n",
        "\n",
        "even_numbers = list(filter(lambda x: x % 2 == 0, numbers))\n",
        "\n",
        "print(even_numbers)"
      ],
      "metadata": {
        "execution": {
          "iopub.status.busy": "2023-08-13T05:51:34.458640Z",
          "iopub.execute_input": "2023-08-13T05:51:34.459087Z",
          "iopub.status.idle": "2023-08-13T05:51:34.466139Z",
          "shell.execute_reply.started": "2023-08-13T05:51:34.459050Z",
          "shell.execute_reply": "2023-08-13T05:51:34.464810Z"
        },
        "trusted": true,
        "colab": {
          "base_uri": "https://localhost:8080/"
        },
        "id": "It7A8PP5sgL6",
        "outputId": "384ab369-c0dc-4456-be10-bcceea54b7c8"
      },
      "execution_count": 23,
      "outputs": [
        {
          "output_type": "stream",
          "name": "stdout",
          "text": [
            "[2, 4]\n"
          ]
        }
      ]
    },
    {
      "cell_type": "code",
      "source": [
        "#To map a list\n",
        "numbers = [1, 2, 3, 4, 5]\n",
        "\n",
        "squared = list(map(lambda x: x ** 2, numbers))\n",
        "\n",
        "print(squared)"
      ],
      "metadata": {
        "execution": {
          "iopub.status.busy": "2023-08-13T05:52:26.148713Z",
          "iopub.execute_input": "2023-08-13T05:52:26.149247Z",
          "iopub.status.idle": "2023-08-13T05:52:26.156190Z",
          "shell.execute_reply.started": "2023-08-13T05:52:26.149093Z",
          "shell.execute_reply": "2023-08-13T05:52:26.154866Z"
        },
        "trusted": true,
        "colab": {
          "base_uri": "https://localhost:8080/"
        },
        "id": "_QmnCzP_sgL6",
        "outputId": "b5cfc3c8-fe64-4028-8bf6-7bed99d4b2b8"
      },
      "execution_count": 24,
      "outputs": [
        {
          "output_type": "stream",
          "name": "stdout",
          "text": [
            "[1, 4, 9, 16, 25]\n"
          ]
        }
      ]
    },
    {
      "cell_type": "markdown",
      "source": [
        "**13. Sorted Function**\n",
        "\n",
        "Sort a list while keeping the original intact"
      ],
      "metadata": {
        "id": "pNSpJN49sgL6"
      }
    },
    {
      "cell_type": "code",
      "source": [
        "numbers = [3,1,4,5,9,2]\n",
        "sorted_numbers = sorted(numbers)"
      ],
      "metadata": {
        "execution": {
          "iopub.status.busy": "2023-08-13T05:53:27.254090Z",
          "iopub.execute_input": "2023-08-13T05:53:27.254504Z",
          "iopub.status.idle": "2023-08-13T05:53:27.259952Z",
          "shell.execute_reply.started": "2023-08-13T05:53:27.254473Z",
          "shell.execute_reply": "2023-08-13T05:53:27.258769Z"
        },
        "trusted": true,
        "id": "wJfFtsmgsgL7"
      },
      "execution_count": 25,
      "outputs": []
    },
    {
      "cell_type": "code",
      "source": [
        "sorted_numbers"
      ],
      "metadata": {
        "execution": {
          "iopub.status.busy": "2023-08-13T05:53:34.435804Z",
          "iopub.execute_input": "2023-08-13T05:53:34.436251Z",
          "iopub.status.idle": "2023-08-13T05:53:34.444831Z",
          "shell.execute_reply.started": "2023-08-13T05:53:34.436210Z",
          "shell.execute_reply": "2023-08-13T05:53:34.443639Z"
        },
        "trusted": true,
        "colab": {
          "base_uri": "https://localhost:8080/"
        },
        "id": "2KU8Jt2OsgMA",
        "outputId": "25a37ed7-a4fb-4e06-f331-16a1f9ce6c14"
      },
      "execution_count": 26,
      "outputs": [
        {
          "output_type": "execute_result",
          "data": {
            "text/plain": [
              "[1, 2, 3, 4, 5, 9]"
            ]
          },
          "metadata": {},
          "execution_count": 26
        }
      ]
    },
    {
      "cell_type": "markdown",
      "source": [
        "**14. Chain Comparison**\n",
        "\n",
        "Chain comparison for cleaner code:"
      ],
      "metadata": {
        "id": "cb9Y1pHssgMA"
      }
    },
    {
      "cell_type": "code",
      "source": [
        "x = 10\n",
        "if 0 < x < 20:\n",
        "    print(\"x is the range (0, 20)\")"
      ],
      "metadata": {
        "execution": {
          "iopub.status.busy": "2023-08-13T05:54:57.622063Z",
          "iopub.execute_input": "2023-08-13T05:54:57.622497Z",
          "iopub.status.idle": "2023-08-13T05:54:57.628400Z",
          "shell.execute_reply.started": "2023-08-13T05:54:57.622462Z",
          "shell.execute_reply": "2023-08-13T05:54:57.627313Z"
        },
        "trusted": true,
        "colab": {
          "base_uri": "https://localhost:8080/"
        },
        "id": "vFqnSoeisgMB",
        "outputId": "f139ac81-8aad-49f5-e669-9cf50f9eda15"
      },
      "execution_count": 27,
      "outputs": [
        {
          "output_type": "stream",
          "name": "stdout",
          "text": [
            "x is the range (0, 20)\n"
          ]
        }
      ]
    },
    {
      "cell_type": "markdown",
      "source": [
        "**15. Dictionary Comprehensions**\n",
        "\n",
        "Use dictionary comprehensions for concise dictionary creation\n"
      ],
      "metadata": {
        "id": "XjmVEsFgsgMC"
      }
    },
    {
      "cell_type": "code",
      "source": [
        "squared_dict = {x: x**2 for x in range(1, 11)}"
      ],
      "metadata": {
        "execution": {
          "iopub.status.busy": "2023-08-13T05:56:37.304573Z",
          "iopub.execute_input": "2023-08-13T05:56:37.305038Z",
          "iopub.status.idle": "2023-08-13T05:56:37.310651Z",
          "shell.execute_reply.started": "2023-08-13T05:56:37.304999Z",
          "shell.execute_reply": "2023-08-13T05:56:37.309430Z"
        },
        "trusted": true,
        "id": "VmesdYn0sgMC"
      },
      "execution_count": 28,
      "outputs": []
    },
    {
      "cell_type": "code",
      "source": [
        "squared_dict"
      ],
      "metadata": {
        "execution": {
          "iopub.status.busy": "2023-08-13T05:56:42.549623Z",
          "iopub.execute_input": "2023-08-13T05:56:42.550075Z",
          "iopub.status.idle": "2023-08-13T05:56:42.558241Z",
          "shell.execute_reply.started": "2023-08-13T05:56:42.550037Z",
          "shell.execute_reply": "2023-08-13T05:56:42.557045Z"
        },
        "trusted": true,
        "colab": {
          "base_uri": "https://localhost:8080/"
        },
        "id": "oGx9QGs0sgMC",
        "outputId": "4193690f-9361-4364-b0fe-bd5be5093e3e"
      },
      "execution_count": 29,
      "outputs": [
        {
          "output_type": "execute_result",
          "data": {
            "text/plain": [
              "{1: 1, 2: 4, 3: 9, 4: 16, 5: 25, 6: 36, 7: 49, 8: 64, 9: 81, 10: 100}"
            ]
          },
          "metadata": {},
          "execution_count": 29
        }
      ]
    },
    {
      "cell_type": "markdown",
      "source": [
        "**16. zip(*reversed()) to transpose a Matrix**\n",
        "\n",
        "Transpose a matrix using zip and reversed functions:\n"
      ],
      "metadata": {
        "id": "gv9bicixsgMD"
      }
    },
    {
      "cell_type": "code",
      "source": [
        "matrix = [\n",
        "    [1,2,3],\n",
        "    [4,5,6],\n",
        "    [7,8,9]\n",
        "]\n",
        "transposed_matrix = [list(row) for row in zip(*reversed(matrix))]\n"
      ],
      "metadata": {
        "execution": {
          "iopub.status.busy": "2023-08-13T05:59:48.733729Z",
          "iopub.execute_input": "2023-08-13T05:59:48.734252Z",
          "iopub.status.idle": "2023-08-13T05:59:48.744379Z",
          "shell.execute_reply.started": "2023-08-13T05:59:48.734208Z",
          "shell.execute_reply": "2023-08-13T05:59:48.743096Z"
        },
        "trusted": true,
        "id": "Q9VHlWnTsgMD"
      },
      "execution_count": 30,
      "outputs": []
    },
    {
      "cell_type": "code",
      "source": [
        "transposed_matrix"
      ],
      "metadata": {
        "execution": {
          "iopub.status.busy": "2023-08-13T05:59:57.419141Z",
          "iopub.execute_input": "2023-08-13T05:59:57.419538Z",
          "iopub.status.idle": "2023-08-13T05:59:57.426663Z",
          "shell.execute_reply.started": "2023-08-13T05:59:57.419508Z",
          "shell.execute_reply": "2023-08-13T05:59:57.425466Z"
        },
        "trusted": true,
        "colab": {
          "base_uri": "https://localhost:8080/"
        },
        "id": "IdXmrIoRsgMD",
        "outputId": "b1dfcbc9-b3fc-43b3-8594-8d56a6e9e119"
      },
      "execution_count": 31,
      "outputs": [
        {
          "output_type": "execute_result",
          "data": {
            "text/plain": [
              "[[7, 4, 1], [8, 5, 2], [9, 6, 3]]"
            ]
          },
          "metadata": {},
          "execution_count": 31
        }
      ]
    },
    {
      "cell_type": "markdown",
      "source": [
        "**17. set for unique Elements**\n",
        "\n",
        "Use set to get unique elemnets from a list:\n"
      ],
      "metadata": {
        "id": "93L2i_ugsgMD"
      }
    },
    {
      "cell_type": "code",
      "source": [
        "numbers = [1,2,3,4,5,6,7,8,1,1,1,3,4,5,5,6,3,4,5,5,3]\n",
        "unique_numbers = list(set(numbers))"
      ],
      "metadata": {
        "execution": {
          "iopub.status.busy": "2023-08-13T06:01:42.510445Z",
          "iopub.execute_input": "2023-08-13T06:01:42.510898Z",
          "iopub.status.idle": "2023-08-13T06:01:42.517272Z",
          "shell.execute_reply.started": "2023-08-13T06:01:42.510863Z",
          "shell.execute_reply": "2023-08-13T06:01:42.516174Z"
        },
        "trusted": true,
        "id": "B-6gmnlFsgME"
      },
      "execution_count": 32,
      "outputs": []
    },
    {
      "cell_type": "code",
      "source": [
        "unique_numbers"
      ],
      "metadata": {
        "execution": {
          "iopub.status.busy": "2023-08-13T06:01:54.466465Z",
          "iopub.execute_input": "2023-08-13T06:01:54.466890Z",
          "iopub.status.idle": "2023-08-13T06:01:54.474128Z",
          "shell.execute_reply.started": "2023-08-13T06:01:54.466855Z",
          "shell.execute_reply": "2023-08-13T06:01:54.472757Z"
        },
        "trusted": true,
        "colab": {
          "base_uri": "https://localhost:8080/"
        },
        "id": "RosmWOKLsgME",
        "outputId": "303321bc-5b07-4a6d-8dc3-fef0c645e8f7"
      },
      "execution_count": 33,
      "outputs": [
        {
          "output_type": "execute_result",
          "data": {
            "text/plain": [
              "[1, 2, 3, 4, 5, 6, 7, 8]"
            ]
          },
          "metadata": {},
          "execution_count": 33
        }
      ]
    },
    {
      "cell_type": "markdown",
      "source": [
        "**18. collctions.Counter**\n",
        "\n",
        "Use Counter to count occurences of elements in a list:\n"
      ],
      "metadata": {
        "id": "aviep_SisgME"
      }
    },
    {
      "cell_type": "code",
      "source": [
        "from collections import Counter\n",
        "numbers = [1,2,3,1,2,3,2,3,2,4,2,4,5,2,5,2,4,2,5,6,7,4]\n",
        "number_counts = Counter(numbers)"
      ],
      "metadata": {
        "execution": {
          "iopub.status.busy": "2023-08-13T06:03:41.923874Z",
          "iopub.execute_input": "2023-08-13T06:03:41.924302Z",
          "iopub.status.idle": "2023-08-13T06:03:41.931210Z",
          "shell.execute_reply.started": "2023-08-13T06:03:41.924270Z",
          "shell.execute_reply": "2023-08-13T06:03:41.929962Z"
        },
        "trusted": true,
        "id": "GZ7Lr64QsgMI"
      },
      "execution_count": 34,
      "outputs": []
    },
    {
      "cell_type": "code",
      "source": [
        "number_counts"
      ],
      "metadata": {
        "execution": {
          "iopub.status.busy": "2023-08-13T06:03:48.516629Z",
          "iopub.execute_input": "2023-08-13T06:03:48.517529Z",
          "iopub.status.idle": "2023-08-13T06:03:48.524285Z",
          "shell.execute_reply.started": "2023-08-13T06:03:48.517492Z",
          "shell.execute_reply": "2023-08-13T06:03:48.523313Z"
        },
        "trusted": true,
        "colab": {
          "base_uri": "https://localhost:8080/"
        },
        "id": "O3SoB8ShsgMI",
        "outputId": "3927d293-4b5f-4de5-adab-eacc47b557cb"
      },
      "execution_count": 35,
      "outputs": [
        {
          "output_type": "execute_result",
          "data": {
            "text/plain": [
              "Counter({1: 2, 2: 8, 3: 3, 4: 4, 5: 3, 6: 1, 7: 1})"
            ]
          },
          "metadata": {},
          "execution_count": 35
        }
      ]
    },
    {
      "cell_type": "markdown",
      "source": [
        "**19. sum with a starting value**\n",
        "\n",
        "Use sum with a string value for accumulating values:"
      ],
      "metadata": {
        "id": "YKiIQr_lsgMI"
      }
    },
    {
      "cell_type": "code",
      "source": [
        "numbers = [1,2,3,4,5]\n",
        "sum_with_start = sum(numbers, 10)\n",
        "sum_with_start2 = sum(numbers, 30)"
      ],
      "metadata": {
        "execution": {
          "iopub.status.busy": "2023-08-13T06:06:37.824965Z",
          "iopub.execute_input": "2023-08-13T06:06:37.825445Z",
          "iopub.status.idle": "2023-08-13T06:06:37.831300Z",
          "shell.execute_reply.started": "2023-08-13T06:06:37.825405Z",
          "shell.execute_reply": "2023-08-13T06:06:37.830072Z"
        },
        "trusted": true,
        "id": "r3TTBr9hsgMI"
      },
      "execution_count": 36,
      "outputs": []
    },
    {
      "cell_type": "code",
      "source": [
        "print(sum_with_start)\n",
        "print(sum_with_start2)"
      ],
      "metadata": {
        "execution": {
          "iopub.status.busy": "2023-08-13T06:06:39.648874Z",
          "iopub.execute_input": "2023-08-13T06:06:39.650171Z",
          "iopub.status.idle": "2023-08-13T06:06:39.655336Z",
          "shell.execute_reply.started": "2023-08-13T06:06:39.650129Z",
          "shell.execute_reply": "2023-08-13T06:06:39.654035Z"
        },
        "trusted": true,
        "colab": {
          "base_uri": "https://localhost:8080/"
        },
        "id": "I1NQZoyvsgMI",
        "outputId": "19f823aa-b366-47de-89d7-2a2fa672bfdb"
      },
      "execution_count": 37,
      "outputs": [
        {
          "output_type": "stream",
          "name": "stdout",
          "text": [
            "25\n",
            "45\n"
          ]
        }
      ]
    },
    {
      "cell_type": "markdown",
      "source": [
        "**20. collections.defaultdict with list**\n",
        "\n",
        "Use defaultdict with a list as the default factory:\n"
      ],
      "metadata": {
        "id": "_Jp5SnzEsgMJ"
      }
    },
    {
      "cell_type": "code",
      "source": [
        "from collections import defaultdict\n",
        "\n",
        "colors = [(\"apple\", \"red\"), (\"banana\", \"yellow\"), (\"cherry\", \"red\"),\n",
        "(\"orange\", \"orange\")]\n",
        "\n",
        "color_dict = defaultdict(list)\n",
        "\n",
        "for fruit, color in colors:\n",
        "    color_dict[color].append(fruit)\n",
        "\n"
      ],
      "metadata": {
        "execution": {
          "iopub.status.busy": "2023-08-13T06:08:39.445136Z",
          "iopub.execute_input": "2023-08-13T06:08:39.445545Z",
          "iopub.status.idle": "2023-08-13T06:08:39.452917Z",
          "shell.execute_reply.started": "2023-08-13T06:08:39.445512Z",
          "shell.execute_reply": "2023-08-13T06:08:39.451687Z"
        },
        "trusted": true,
        "id": "EtUzVaSUsgMJ"
      },
      "execution_count": 38,
      "outputs": []
    },
    {
      "cell_type": "code",
      "source": [
        "\"\"\"\n",
        "The defaultdict object is a very useful tool for working with dictionaries.\n",
        "It can be used to avoid the need to check for the existence of a key before accessing it.\n",
        "This can be helpful for code that needs to iterate over a large number of keys,\n",
        "as it can prevent unnecessary errors.\n",
        "\"\"\"\n",
        "print(color_dict)"
      ],
      "metadata": {
        "execution": {
          "iopub.status.busy": "2023-08-13T06:15:22.446736Z",
          "iopub.execute_input": "2023-08-13T06:15:22.447164Z",
          "iopub.status.idle": "2023-08-13T06:15:22.453629Z",
          "shell.execute_reply.started": "2023-08-13T06:15:22.447131Z",
          "shell.execute_reply": "2023-08-13T06:15:22.452429Z"
        },
        "trusted": true,
        "colab": {
          "base_uri": "https://localhost:8080/"
        },
        "id": "xzX7SU2wsgMJ",
        "outputId": "f15fa280-6aae-4a8b-95ff-13cbf83552ef"
      },
      "execution_count": 39,
      "outputs": [
        {
          "output_type": "stream",
          "name": "stdout",
          "text": [
            "defaultdict(<class 'list'>, {'red': ['apple', 'cherry'], 'yellow': ['banana'], 'orange': ['orange']})\n"
          ]
        }
      ]
    },
    {
      "cell_type": "markdown",
      "source": [
        "**21. The with statement for File Handling**\n",
        "\n",
        "Use the with statement for cleaner file handling"
      ],
      "metadata": {
        "id": "k0TepraisgMJ"
      }
    },
    {
      "cell_type": "code",
      "source": [
        "# with open (\"file.txt\",\"r\") as file:\n",
        "#     content = file.read()\n",
        "#  #No need to manually close the file, it's automatically handled by the 'with' block."
      ],
      "metadata": {
        "execution": {
          "iopub.status.busy": "2023-08-13T06:19:36.070010Z",
          "iopub.execute_input": "2023-08-13T06:19:36.070400Z",
          "iopub.status.idle": "2023-08-13T06:19:36.075742Z",
          "shell.execute_reply.started": "2023-08-13T06:19:36.070358Z",
          "shell.execute_reply": "2023-08-13T06:19:36.074065Z"
        },
        "trusted": true,
        "id": "vtN4qsapsgMJ"
      },
      "execution_count": 40,
      "outputs": []
    },
    {
      "cell_type": "code",
      "source": [
        "try:\n",
        "    with open(\"file.txt\", \"r\") as file:\n",
        "        content = file.read()\n",
        "except FileNotFoundError as e:\n",
        "    print(\"File not found\")\n"
      ],
      "metadata": {
        "execution": {
          "iopub.status.busy": "2023-08-13T06:19:38.175941Z",
          "iopub.execute_input": "2023-08-13T06:19:38.176437Z",
          "iopub.status.idle": "2023-08-13T06:19:38.184088Z",
          "shell.execute_reply.started": "2023-08-13T06:19:38.176395Z",
          "shell.execute_reply": "2023-08-13T06:19:38.182930Z"
        },
        "trusted": true,
        "colab": {
          "base_uri": "https://localhost:8080/"
        },
        "id": "kGDtxBYwsgMK",
        "outputId": "9aeb5742-2d9c-4d65-9d54-5dffb29545a5"
      },
      "execution_count": 41,
      "outputs": [
        {
          "output_type": "stream",
          "name": "stdout",
          "text": [
            "File not found\n"
          ]
        }
      ]
    },
    {
      "cell_type": "markdown",
      "source": [
        "**22. isinstance for Type checking**\n",
        "\n",
        "Use isinstance for type checking instead of using type:\n"
      ],
      "metadata": {
        "id": "6o_UVg71sgMK"
      }
    },
    {
      "cell_type": "code",
      "source": [
        "value = 10\n",
        "\n",
        "if isinstance(value, int):\n",
        "    print(\"The value is an integer\")\n",
        "else:\n",
        "    print(\"The value is not an integer\")"
      ],
      "metadata": {
        "execution": {
          "iopub.status.busy": "2023-08-13T06:21:38.646628Z",
          "iopub.execute_input": "2023-08-13T06:21:38.647068Z",
          "iopub.status.idle": "2023-08-13T06:21:38.653766Z",
          "shell.execute_reply.started": "2023-08-13T06:21:38.647025Z",
          "shell.execute_reply": "2023-08-13T06:21:38.652439Z"
        },
        "trusted": true,
        "colab": {
          "base_uri": "https://localhost:8080/"
        },
        "id": "wLhNF0KwsgMK",
        "outputId": "9e720a76-f5aa-4e58-f4c5-26c8de5c2100"
      },
      "execution_count": 42,
      "outputs": [
        {
          "output_type": "stream",
          "name": "stdout",
          "text": [
            "The value is an integer\n"
          ]
        }
      ]
    },
    {
      "cell_type": "markdown",
      "source": [
        "**23. Multiple Inheritance**\n",
        "\n",
        "Use multiple inheritance to create flexible class hierarchies:"
      ],
      "metadata": {
        "id": "KO8IyeYrsgMK"
      }
    },
    {
      "cell_type": "code",
      "source": [
        "class A:\n",
        "    def method(self):\n",
        "        print(\"Method from class A\")\n",
        "class B:\n",
        "    def method(self):\n",
        "        print(\"Method from class B\")\n",
        "class C(A, B):\n",
        "    pass\n",
        "instance = C()\n",
        "instance.method() # Output: \"Method from class A\""
      ],
      "metadata": {
        "execution": {
          "iopub.status.busy": "2023-08-13T06:23:12.943963Z",
          "iopub.execute_input": "2023-08-13T06:23:12.944426Z",
          "iopub.status.idle": "2023-08-13T06:23:12.952168Z",
          "shell.execute_reply.started": "2023-08-13T06:23:12.944389Z",
          "shell.execute_reply": "2023-08-13T06:23:12.950841Z"
        },
        "trusted": true,
        "colab": {
          "base_uri": "https://localhost:8080/"
        },
        "id": "AuLUE2L8sgMK",
        "outputId": "e5c9cfff-b35f-43c8-84c8-d23477bb11dd"
      },
      "execution_count": 43,
      "outputs": [
        {
          "output_type": "stream",
          "name": "stdout",
          "text": [
            "Method from class A\n"
          ]
        }
      ]
    },
    {
      "cell_type": "markdown",
      "source": [
        "**24. Decorators**\n",
        "\n",
        "Decorators allow you to modify or enhance the behavior of functions or methods:\n"
      ],
      "metadata": {
        "id": "AVj5My9jsgMK"
      }
    },
    {
      "cell_type": "code",
      "source": [
        "def my_decorator(func):\n",
        "    def wrapper(*args,**kwargs):\n",
        "        print(\"Something is happening before the function is called\")\n",
        "        result = func(*args, **kwargs)\n",
        "        print(\"Something is happening after the function is called.\")\n",
        "        return result\n",
        "    return wrapper\n",
        "\n",
        "@my_decorator\n",
        "def say_hello():\n",
        "    print(\"Hello!\")\n",
        "\n",
        "say_hello()\n"
      ],
      "metadata": {
        "execution": {
          "iopub.status.busy": "2023-08-13T06:27:04.133549Z",
          "iopub.execute_input": "2023-08-13T06:27:04.134020Z",
          "iopub.status.idle": "2023-08-13T06:27:04.141459Z",
          "shell.execute_reply.started": "2023-08-13T06:27:04.133965Z",
          "shell.execute_reply": "2023-08-13T06:27:04.140048Z"
        },
        "trusted": true,
        "colab": {
          "base_uri": "https://localhost:8080/"
        },
        "id": "CSIYfcDTsgML",
        "outputId": "420d2138-d624-410a-aba7-3ceeaebcbe84"
      },
      "execution_count": 44,
      "outputs": [
        {
          "output_type": "stream",
          "name": "stdout",
          "text": [
            "Something is happening before the function is called\n",
            "Hello!\n",
            "Something is happening after the function is called.\n"
          ]
        }
      ]
    },
    {
      "cell_type": "markdown",
      "source": [
        "*A decorator is a function that takes another function as its argument and returns a new function. The new function is called the wrapper function. The wrapper function can do anything that the original function can do, and it can also do additional things, such as logging, timing, or adding security.*"
      ],
      "metadata": {
        "id": "mNZcYG1ZsgML"
      }
    },
    {
      "cell_type": "markdown",
      "source": [
        "**25. functools.partial**\n",
        "\n",
        "Use functools.partial to create functions with fixed arguments:"
      ],
      "metadata": {
        "id": "uYXJTlj8sgML"
      }
    },
    {
      "cell_type": "code",
      "source": [
        "import functools\n",
        "\n",
        "def power(base, exponent):\n",
        "    return base ** exponent\n",
        "\n",
        "square = functools.partial(power, exponent=2)\n",
        "cube = functools.partial(power, exponent=3)\n",
        "\n",
        "print(square(5))\n",
        "print(cube(5))\n",
        "\n",
        "\n"
      ],
      "metadata": {
        "execution": {
          "iopub.status.busy": "2023-08-13T06:31:36.015104Z",
          "iopub.execute_input": "2023-08-13T06:31:36.016226Z",
          "iopub.status.idle": "2023-08-13T06:31:36.023865Z",
          "shell.execute_reply.started": "2023-08-13T06:31:36.016182Z",
          "shell.execute_reply": "2023-08-13T06:31:36.022508Z"
        },
        "trusted": true,
        "colab": {
          "base_uri": "https://localhost:8080/"
        },
        "id": "AfkLlpi1sgML",
        "outputId": "7357316c-4dd9-4f4a-ffca-6b8135d73a74"
      },
      "execution_count": 45,
      "outputs": [
        {
          "output_type": "stream",
          "name": "stdout",
          "text": [
            "25\n",
            "125\n"
          ]
        }
      ]
    },
    {
      "cell_type": "markdown",
      "source": [
        "**26. collections.namedtuple**\n",
        "\n",
        "Create simple classes with named fields using namedtuple:\n"
      ],
      "metadata": {
        "id": "gYveuxXWsgML"
      }
    },
    {
      "cell_type": "code",
      "source": [
        "from collections import namedtuple\n",
        "\n",
        "Person = namedtuple(\"Person\",[\"name\",\"age\"])\n",
        "Person = Person(\"Amar\", 30)\n",
        "print(Person.name)\n",
        "print(Person.age)\n"
      ],
      "metadata": {
        "execution": {
          "iopub.status.busy": "2023-08-13T06:34:13.354119Z",
          "iopub.execute_input": "2023-08-13T06:34:13.354539Z",
          "iopub.status.idle": "2023-08-13T06:34:13.361695Z",
          "shell.execute_reply.started": "2023-08-13T06:34:13.354503Z",
          "shell.execute_reply": "2023-08-13T06:34:13.360518Z"
        },
        "trusted": true,
        "colab": {
          "base_uri": "https://localhost:8080/"
        },
        "id": "b5WKkjfusgML",
        "outputId": "48c1e83d-af8d-4894-a001-10376627ded4"
      },
      "execution_count": 46,
      "outputs": [
        {
          "output_type": "stream",
          "name": "stdout",
          "text": [
            "Amar\n",
            "30\n"
          ]
        }
      ]
    },
    {
      "cell_type": "markdown",
      "source": [
        "**27. global() and locals()**\n",
        "\n",
        "Access global and local variables dynamically:\n",
        "\n"
      ],
      "metadata": {
        "id": "hF_DlBPWsgMM"
      }
    },
    {
      "cell_type": "code",
      "source": [
        "x = 10\n",
        "\n",
        "def my_function():\n",
        "    y = 20\n",
        "    print(locals())\n",
        "    print(globals()['x'])\n",
        "\n",
        "my_function()"
      ],
      "metadata": {
        "execution": {
          "iopub.status.busy": "2023-08-13T06:35:57.606502Z",
          "iopub.execute_input": "2023-08-13T06:35:57.606920Z",
          "iopub.status.idle": "2023-08-13T06:35:57.613926Z",
          "shell.execute_reply.started": "2023-08-13T06:35:57.606887Z",
          "shell.execute_reply": "2023-08-13T06:35:57.612425Z"
        },
        "trusted": true,
        "colab": {
          "base_uri": "https://localhost:8080/"
        },
        "id": "H9baBH80sgMM",
        "outputId": "b0629fd4-925a-4021-af5f-12c91a6bc64e"
      },
      "execution_count": 47,
      "outputs": [
        {
          "output_type": "stream",
          "name": "stdout",
          "text": [
            "{'y': 20}\n",
            "10\n"
          ]
        }
      ]
    },
    {
      "cell_type": "markdown",
      "source": [
        "**28. List Concatenation**\n",
        "\n",
        "Use + to concatenate lists:\n"
      ],
      "metadata": {
        "id": "iGcZe7kIsgMM"
      }
    },
    {
      "cell_type": "code",
      "source": [
        "list1 = [1,2,3]\n",
        "list2 = [4,5,6]\n",
        "\n",
        "concatenated_list = list1 +list2\n",
        "print(concatenated_list)"
      ],
      "metadata": {
        "execution": {
          "iopub.status.busy": "2023-08-13T06:37:28.588395Z",
          "iopub.execute_input": "2023-08-13T06:37:28.589410Z",
          "iopub.status.idle": "2023-08-13T06:37:28.595419Z",
          "shell.execute_reply.started": "2023-08-13T06:37:28.589368Z",
          "shell.execute_reply": "2023-08-13T06:37:28.594576Z"
        },
        "trusted": true,
        "colab": {
          "base_uri": "https://localhost:8080/"
        },
        "id": "ejGH0WJ_sgMM",
        "outputId": "d2e4c119-18eb-464e-a1d5-56090e6a3979"
      },
      "execution_count": 48,
      "outputs": [
        {
          "output_type": "stream",
          "name": "stdout",
          "text": [
            "[1, 2, 3, 4, 5, 6]\n"
          ]
        }
      ]
    },
    {
      "cell_type": "markdown",
      "source": [
        "**29. Strin Formatting**\n",
        "\n",
        "Use f-string or str.format for string formatting:"
      ],
      "metadata": {
        "id": "niWojH2qsgMM"
      }
    },
    {
      "cell_type": "code",
      "source": [
        "name = \"Amar\"\n",
        "age = 25\n",
        "print(f\"My name is {name} and I am {age} years old.\")\n",
        "print(\"My name is {} and I am {} years old.\".format(name, age))"
      ],
      "metadata": {
        "execution": {
          "iopub.status.busy": "2023-08-13T06:39:54.049753Z",
          "iopub.execute_input": "2023-08-13T06:39:54.050150Z",
          "iopub.status.idle": "2023-08-13T06:39:54.056691Z",
          "shell.execute_reply.started": "2023-08-13T06:39:54.050116Z",
          "shell.execute_reply": "2023-08-13T06:39:54.055446Z"
        },
        "trusted": true,
        "colab": {
          "base_uri": "https://localhost:8080/"
        },
        "id": "0e6b4wc5sgMN",
        "outputId": "994da2a7-99b8-4d95-9c0d-da6c1b945302"
      },
      "execution_count": 49,
      "outputs": [
        {
          "output_type": "stream",
          "name": "stdout",
          "text": [
            "My name is Amar and I am 25 years old.\n",
            "My name is Amar and I am 25 years old.\n"
          ]
        }
      ]
    },
    {
      "cell_type": "markdown",
      "source": [
        "**30. try, except, and else**\n",
        "\n",
        "Use try, except and else for more informative error handling:"
      ],
      "metadata": {
        "id": "XzDBGXfhsgMN"
      }
    },
    {
      "cell_type": "code",
      "source": [
        "try:\n",
        "    result = 10 / 0\n",
        "except ZeroDivisionError as e:\n",
        "    print(f\"Error: {e}\")\n",
        "else:\n",
        "    print(f\"Result: {result}\")"
      ],
      "metadata": {
        "execution": {
          "iopub.status.busy": "2023-08-13T06:41:47.943862Z",
          "iopub.execute_input": "2023-08-13T06:41:47.944400Z",
          "iopub.status.idle": "2023-08-13T06:41:47.950461Z",
          "shell.execute_reply.started": "2023-08-13T06:41:47.944359Z",
          "shell.execute_reply": "2023-08-13T06:41:47.949635Z"
        },
        "trusted": true,
        "colab": {
          "base_uri": "https://localhost:8080/"
        },
        "id": "1wJmIeDPsgMO",
        "outputId": "621c796d-0f8e-40b5-ddd6-e82f7111149e"
      },
      "execution_count": 50,
      "outputs": [
        {
          "output_type": "stream",
          "name": "stdout",
          "text": [
            "Error: division by zero\n"
          ]
        }
      ]
    },
    {
      "cell_type": "markdown",
      "source": [
        "**31. collections.deque**\n",
        "\n",
        "Use deque for efficient amd thread-safe appends and pops from both ends:\n"
      ],
      "metadata": {
        "id": "BOBACiljsgMO"
      }
    },
    {
      "cell_type": "code",
      "source": [
        "from collections import deque\n",
        "queue = deque()\n",
        "queue.append(1)\n",
        "queue.append(2)\n",
        "queue.append(3)\n",
        "queue.append(4)"
      ],
      "metadata": {
        "execution": {
          "iopub.status.busy": "2023-08-13T06:45:10.829340Z",
          "iopub.execute_input": "2023-08-13T06:45:10.829716Z",
          "iopub.status.idle": "2023-08-13T06:45:10.835465Z",
          "shell.execute_reply.started": "2023-08-13T06:45:10.829687Z",
          "shell.execute_reply": "2023-08-13T06:45:10.834352Z"
        },
        "trusted": true,
        "id": "9xHd9Df8sgMO"
      },
      "execution_count": 51,
      "outputs": []
    },
    {
      "cell_type": "code",
      "source": [
        "print(queue)"
      ],
      "metadata": {
        "execution": {
          "iopub.status.busy": "2023-08-13T06:45:13.484137Z",
          "iopub.execute_input": "2023-08-13T06:45:13.484835Z",
          "iopub.status.idle": "2023-08-13T06:45:13.490699Z",
          "shell.execute_reply.started": "2023-08-13T06:45:13.484796Z",
          "shell.execute_reply": "2023-08-13T06:45:13.489407Z"
        },
        "trusted": true,
        "colab": {
          "base_uri": "https://localhost:8080/"
        },
        "id": "aguaHrTLsgMO",
        "outputId": "4c147060-5d10-4a99-b423-113d0d5fbe53"
      },
      "execution_count": 52,
      "outputs": [
        {
          "output_type": "stream",
          "name": "stdout",
          "text": [
            "deque([1, 2, 3, 4])\n"
          ]
        }
      ]
    },
    {
      "cell_type": "code",
      "source": [
        "queue.popleft()"
      ],
      "metadata": {
        "execution": {
          "iopub.status.busy": "2023-08-13T06:45:30.199664Z",
          "iopub.execute_input": "2023-08-13T06:45:30.200112Z",
          "iopub.status.idle": "2023-08-13T06:45:30.208932Z",
          "shell.execute_reply.started": "2023-08-13T06:45:30.200075Z",
          "shell.execute_reply": "2023-08-13T06:45:30.207525Z"
        },
        "trusted": true,
        "colab": {
          "base_uri": "https://localhost:8080/"
        },
        "id": "xsl0SDqGsgMO",
        "outputId": "55a83d5f-5223-4e94-9c8f-47895e52279e"
      },
      "execution_count": 53,
      "outputs": [
        {
          "output_type": "execute_result",
          "data": {
            "text/plain": [
              "1"
            ]
          },
          "metadata": {},
          "execution_count": 53
        }
      ]
    },
    {
      "cell_type": "code",
      "source": [
        "print(queue)"
      ],
      "metadata": {
        "execution": {
          "iopub.status.busy": "2023-08-13T06:45:41.929009Z",
          "iopub.execute_input": "2023-08-13T06:45:41.929442Z",
          "iopub.status.idle": "2023-08-13T06:45:41.935895Z",
          "shell.execute_reply.started": "2023-08-13T06:45:41.929402Z",
          "shell.execute_reply": "2023-08-13T06:45:41.934398Z"
        },
        "trusted": true,
        "colab": {
          "base_uri": "https://localhost:8080/"
        },
        "id": "L18dgc2VsgMP",
        "outputId": "ea2c97d8-04bb-49ec-a8bc-45de258ca2de"
      },
      "execution_count": 54,
      "outputs": [
        {
          "output_type": "stream",
          "name": "stdout",
          "text": [
            "deque([2, 3, 4])\n"
          ]
        }
      ]
    },
    {
      "cell_type": "markdown",
      "source": [
        "**32 Shuffling a List**\n",
        "\n",
        "Use random.shuffle to shuffle elements in a list:\n"
      ],
      "metadata": {
        "id": "BsrEhfgYsgMP"
      }
    },
    {
      "cell_type": "code",
      "source": [
        "import random\n",
        "numbers = [1,2,3,4,5]\n",
        "random.shuffle(numbers)\n",
        "print(numbers)"
      ],
      "metadata": {
        "execution": {
          "iopub.status.busy": "2023-08-13T06:46:52.230662Z",
          "iopub.execute_input": "2023-08-13T06:46:52.231099Z",
          "iopub.status.idle": "2023-08-13T06:46:52.238835Z",
          "shell.execute_reply.started": "2023-08-13T06:46:52.231063Z",
          "shell.execute_reply": "2023-08-13T06:46:52.237542Z"
        },
        "trusted": true,
        "colab": {
          "base_uri": "https://localhost:8080/"
        },
        "id": "_jeRDaQfsgMP",
        "outputId": "bf1a2f51-7376-4d0b-ddd7-463ea963ba88"
      },
      "execution_count": 55,
      "outputs": [
        {
          "output_type": "stream",
          "name": "stdout",
          "text": [
            "[4, 3, 2, 5, 1]\n"
          ]
        }
      ]
    },
    {
      "cell_type": "markdown",
      "source": [
        "**33. Dictionary Get with Default Value**\n",
        "\n",
        "Use get to access dictionary values with a default value if the\n",
        "key is not present:\n"
      ],
      "metadata": {
        "id": "Rrj4EuU5sgMP"
      }
    },
    {
      "cell_type": "code",
      "source": [
        "my_dict = {'a': 1,'b':2}\n",
        "value = my_dict.get('c',0)"
      ],
      "metadata": {
        "execution": {
          "iopub.status.busy": "2023-08-13T06:47:48.799083Z",
          "iopub.execute_input": "2023-08-13T06:47:48.799674Z",
          "iopub.status.idle": "2023-08-13T06:47:48.808285Z",
          "shell.execute_reply.started": "2023-08-13T06:47:48.799617Z",
          "shell.execute_reply": "2023-08-13T06:47:48.806419Z"
        },
        "trusted": true,
        "id": "tvvg5szusgMQ"
      },
      "execution_count": 56,
      "outputs": []
    },
    {
      "cell_type": "code",
      "source": [
        "print(value)"
      ],
      "metadata": {
        "execution": {
          "iopub.status.busy": "2023-08-13T06:47:53.675067Z",
          "iopub.execute_input": "2023-08-13T06:47:53.675475Z",
          "iopub.status.idle": "2023-08-13T06:47:53.681664Z",
          "shell.execute_reply.started": "2023-08-13T06:47:53.675441Z",
          "shell.execute_reply": "2023-08-13T06:47:53.680427Z"
        },
        "trusted": true,
        "colab": {
          "base_uri": "https://localhost:8080/"
        },
        "id": "PwFE1iJGsgMQ",
        "outputId": "bf027601-574f-4a7a-fac4-3d921d0dc943"
      },
      "execution_count": 57,
      "outputs": [
        {
          "output_type": "stream",
          "name": "stdout",
          "text": [
            "0\n"
          ]
        }
      ]
    },
    {
      "cell_type": "code",
      "source": [],
      "metadata": {
        "id": "SsImVjx3sgMQ"
      },
      "execution_count": 57,
      "outputs": []
    }
  ]
}